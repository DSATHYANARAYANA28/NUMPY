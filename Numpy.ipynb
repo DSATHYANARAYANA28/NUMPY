{
 "cells": [
  {
   "cell_type": "code",
   "execution_count": 2,
   "id": "0de276e2-c839-4de5-8df8-8f375365fd2b",
   "metadata": {},
   "outputs": [
    {
     "name": "stdout",
     "output_type": "stream",
     "text": [
      "Requirement already satisfied: numpy in c:\\users\\sathya\\anaconda3\\lib\\site-packages (1.22.4)Note: you may need to restart the kernel to use updated packages.\n",
      "Could not fetch URL https://pypi.org/simple/pip/: There was a problem confirming the ssl certificate: HTTPSConnectionPool(host='pypi.org', port=443): Max retries exceeded with url: /simple/pip/ (Caused by SSLError(SSLCertVerificationError(1, '[SSL: CERTIFICATE_VERIFY_FAILED] certificate verify failed: self signed certificate in certificate chain (_ssl.c:1129)'))) - skipping\n",
      "\n"
     ]
    }
   ],
   "source": [
    "pip install numpy"
   ]
  },
  {
   "cell_type": "markdown",
   "id": "0c47d5dc-6097-4ab0-ba99-8b35b255a92c",
   "metadata": {},
   "source": [
    "NumPy is a general-purpose array-processing package. It provides a high-performance multidimensional array object, and tools for working with these arrays. It is the fundamental package for scientific computing with Python"
   ]
  },
  {
   "cell_type": "markdown",
   "id": "7980521c-121c-420b-bbf8-32a0d38ea669",
   "metadata": {},
   "source": [
    "# what is an ARRAY?\n",
    "An array is a data structure that stores values of same data type. In Python, this is the main difference between arrays and lists. While python lists can contain values corresponding to different data types, arrays in python can only contain values corresponding to same data type\n"
   ]
  },
  {
   "cell_type": "markdown",
   "id": "e488c6e2-673d-4c78-a763-afb862669c83",
   "metadata": {},
   "source": [
    "# step1 : install the package in the cell or cmd through a command\n",
    "command = pip install numpy\n",
    "# step2: import the package \n",
    " import numpy as np\n",
    " \n"
   ]
  },
  {
   "cell_type": "markdown",
   "id": "3ab9897b-86d9-4025-8c09-ff8b4ef8b858",
   "metadata": {},
   "source": [
    "# how to create an array?\n",
    "step1:create a list \n",
    "\n",
    "step2:use numpy to change the list into array [np.array]"
   ]
  },
  {
   "cell_type": "code",
   "execution_count": 10,
   "id": "495a9356-20c8-4a43-9990-9f3f8a8b55ef",
   "metadata": {},
   "outputs": [],
   "source": [
    "my_list =  [2,3,4,5,6]\n",
    "\n",
    "arr = np.array(my_list)"
   ]
  },
  {
   "cell_type": "code",
   "execution_count": 14,
   "id": "17cc8f2e-2147-43a2-a1c9-66219d42d114",
   "metadata": {},
   "outputs": [
    {
     "name": "stdout",
     "output_type": "stream",
     "text": [
      "[2 3 4 5 6]\n"
     ]
    }
   ],
   "source": [
    "print(arr)"
   ]
  },
  {
   "cell_type": "code",
   "execution_count": 21,
   "id": "02f2e494-3c65-4388-bb69-f79b6688d332",
   "metadata": {},
   "outputs": [
    {
     "data": {
      "text/plain": [
       "numpy.ndarray"
      ]
     },
     "execution_count": 21,
     "metadata": {},
     "output_type": "execute_result"
    }
   ],
   "source": [
    "type(arr)"
   ]
  },
  {
   "cell_type": "markdown",
   "id": "e62e8862-41af-4abd-89a1-5b065f47cf78",
   "metadata": {},
   "source": [
    "# how to create a multi dimentional array?"
   ]
  },
  {
   "cell_type": "code",
   "execution_count": 33,
   "id": "29b5cd39-126f-482e-91f8-dd51ae26a900",
   "metadata": {},
   "outputs": [],
   "source": [
    "#Two dimensional array\n",
    "my_list1=[2,3,4,5,6]\n",
    "my_list2=[9,8,7,6,5]\n",
    "my_list3=[1,2,4,5,3]"
   ]
  },
  {
   "cell_type": "code",
   "execution_count": 37,
   "id": "cdb99653-af51-4e00-9095-64fd7242422c",
   "metadata": {},
   "outputs": [
    {
     "name": "stdout",
     "output_type": "stream",
     "text": [
      "[[2 3 4 5 6]\n",
      " [9 8 7 6 5]\n",
      " [1 2 4 5 3]]\n"
     ]
    }
   ],
   "source": [
    "newarr=np.array([my_list1,my_list2,my_list3])\n",
    "print(newarr)"
   ]
  },
  {
   "cell_type": "markdown",
   "id": "fc0cc14a-a06a-4bba-95e5-7ae30ecdf702",
   "metadata": {},
   "source": [
    "# how to shape the array?"
   ]
  },
  {
   "cell_type": "code",
   "execution_count": 44,
   "id": "0ec9f681-5c32-4c15-8d2b-9a2af93139ca",
   "metadata": {},
   "outputs": [
    {
     "data": {
      "text/plain": [
       "(3, 5)"
      ]
     },
     "execution_count": 44,
     "metadata": {},
     "output_type": "execute_result"
    }
   ],
   "source": [
    "newarr.shape"
   ]
  },
  {
   "cell_type": "code",
   "execution_count": 46,
   "id": "1adf32f2-32be-4f2a-9fad-0d9190a48f04",
   "metadata": {},
   "outputs": [
    {
     "data": {
      "text/plain": [
       "(5,)"
      ]
     },
     "execution_count": 46,
     "metadata": {},
     "output_type": "execute_result"
    }
   ],
   "source": [
    "arr.shape"
   ]
  },
  {
   "cell_type": "markdown",
   "id": "75b4302d-df40-4f16-844c-e0bc0db5fc65",
   "metadata": {},
   "source": [
    "# indexing "
   ]
  },
  {
   "cell_type": "code",
   "execution_count": 53,
   "id": "a5b290a7-ed4d-4db0-833e-3ab7dc384256",
   "metadata": {},
   "outputs": [
    {
     "data": {
      "text/plain": [
       "array([2, 3, 4, 5, 6])"
      ]
     },
     "execution_count": 53,
     "metadata": {},
     "output_type": "execute_result"
    }
   ],
   "source": [
    "arr"
   ]
  },
  {
   "cell_type": "code",
   "execution_count": 57,
   "id": "7c1176e9-0788-425c-8c7c-b29a13a2401e",
   "metadata": {},
   "outputs": [
    {
     "data": {
      "text/plain": [
       "6"
      ]
     },
     "execution_count": 57,
     "metadata": {},
     "output_type": "execute_result"
    }
   ],
   "source": [
    "arr[4]"
   ]
  },
  {
   "cell_type": "code",
   "execution_count": 59,
   "id": "ebee96ec-513f-4638-8e64-dd02d3772f5b",
   "metadata": {},
   "outputs": [
    {
     "data": {
      "text/plain": [
       "array([[2, 3, 4, 5, 6],\n",
       "       [9, 8, 7, 6, 5],\n",
       "       [1, 2, 4, 5, 3]])"
      ]
     },
     "execution_count": 59,
     "metadata": {},
     "output_type": "execute_result"
    }
   ],
   "source": [
    "newarr"
   ]
  },
  {
   "cell_type": "code",
   "execution_count": 61,
   "id": "76f4608b-09d8-48bd-b204-01c1524d89f8",
   "metadata": {},
   "outputs": [
    {
     "data": {
      "text/plain": [
       "array([[4, 5, 3]])"
      ]
     },
     "execution_count": 61,
     "metadata": {},
     "output_type": "execute_result"
    }
   ],
   "source": [
    "newarr[2:,2:]"
   ]
  },
  {
   "cell_type": "code",
   "execution_count": 63,
   "id": "b44e3f85-6830-481c-9c23-ba0812db880e",
   "metadata": {},
   "outputs": [
    {
     "data": {
      "text/plain": [
       "array([[9, 8, 7, 6],\n",
       "       [1, 2, 4, 5]])"
      ]
     },
     "execution_count": 63,
     "metadata": {},
     "output_type": "execute_result"
    }
   ],
   "source": [
    "newarr[1:4,:4]"
   ]
  },
  {
   "cell_type": "code",
   "execution_count": 65,
   "id": "11b0f41f-2f30-4b5a-8acc-88a9cc16a201",
   "metadata": {},
   "outputs": [
    {
     "data": {
      "text/plain": [
       "array([2, 3, 4, 5, 6])"
      ]
     },
     "execution_count": 65,
     "metadata": {},
     "output_type": "execute_result"
    }
   ],
   "source": [
    "arr"
   ]
  },
  {
   "cell_type": "markdown",
   "id": "4eaf688a-1b3b-4376-94e6-7f538337291a",
   "metadata": {},
   "source": [
    "# how to add values in the array?\n",
    "use add()\n"
   ]
  },
  {
   "cell_type": "code",
   "execution_count": 74,
   "id": "8d79807b-f388-4c63-a1d9-7407af07518b",
   "metadata": {},
   "outputs": [
    {
     "data": {
      "text/plain": [
       "array([ 28, 200, 200, 300, 100])"
      ]
     },
     "execution_count": 74,
     "metadata": {},
     "output_type": "execute_result"
    }
   ],
   "source": [
    "arr1 = [28,200,200,300,100]\n",
    "np.array(arr1)"
   ]
  },
  {
   "cell_type": "code",
   "execution_count": 76,
   "id": "e7890aa3-d5bd-4aa9-90a2-df395b58356f",
   "metadata": {},
   "outputs": [],
   "source": [
    "extended_arr = np.add(arr,arr1)"
   ]
  },
  {
   "cell_type": "code",
   "execution_count": 78,
   "id": "91b786b7-feea-4682-83f0-c9884671b946",
   "metadata": {},
   "outputs": [
    {
     "data": {
      "text/plain": [
       "array([ 30, 203, 204, 305, 106])"
      ]
     },
     "execution_count": 78,
     "metadata": {},
     "output_type": "execute_result"
    }
   ],
   "source": [
    "extended_arr"
   ]
  },
  {
   "cell_type": "markdown",
   "id": "c0994992-fbdd-4881-a523-0d2d2072099a",
   "metadata": {},
   "source": [
    "# how to change value in the index ?\n"
   ]
  },
  {
   "cell_type": "code",
   "execution_count": 98,
   "id": "87ad3bf8-8f17-4bbf-b5ea-9b98886c9a38",
   "metadata": {},
   "outputs": [],
   "source": [
    "extended_arr[3:]=100"
   ]
  },
  {
   "cell_type": "code",
   "execution_count": 100,
   "id": "0fe3cdee-a3d5-4e74-85c0-7c375aa17464",
   "metadata": {},
   "outputs": [
    {
     "data": {
      "text/plain": [
       "array([ 30, 203, 204, 100, 100])"
      ]
     },
     "execution_count": 100,
     "metadata": {},
     "output_type": "execute_result"
    }
   ],
   "source": [
    "extended_arr"
   ]
  },
  {
   "cell_type": "code",
   "execution_count": null,
   "id": "0f19a833-fcbf-4962-9b46-32b5de439a3f",
   "metadata": {},
   "outputs": [],
   "source": [
    "# how to create values ith small commands "
   ]
  },
  {
   "cell_type": "code",
   "execution_count": 116,
   "id": "dc8f235f-9c7e-42e1-b4f3-125f2ae6c3b1",
   "metadata": {},
   "outputs": [],
   "source": [
    "## Create arrays and reshape\n",
    "\n",
    "arr2=np.arange(0,20).reshape(10,2)"
   ]
  },
  {
   "cell_type": "code",
   "execution_count": 118,
   "id": "0bb7924e-92a3-4e60-87c8-49dc8dbbb690",
   "metadata": {},
   "outputs": [
    {
     "data": {
      "text/plain": [
       "array([[ 0,  1],\n",
       "       [ 2,  3],\n",
       "       [ 4,  5],\n",
       "       [ 6,  7],\n",
       "       [ 8,  9],\n",
       "       [10, 11],\n",
       "       [12, 13],\n",
       "       [14, 15],\n",
       "       [16, 17],\n",
       "       [18, 19]])"
      ]
     },
     "execution_count": 118,
     "metadata": {},
     "output_type": "execute_result"
    }
   ],
   "source": [
    "arr2"
   ]
  },
  {
   "cell_type": "code",
   "execution_count": 120,
   "id": "9eb9b909-37d6-46b3-ba3c-988fabf1b585",
   "metadata": {},
   "outputs": [],
   "source": [
    "arr3=np.arange(0,30).reshape(3,10)"
   ]
  },
  {
   "cell_type": "code",
   "execution_count": 122,
   "id": "7514e4e9-d2c3-4916-be27-472d379fbbbf",
   "metadata": {},
   "outputs": [
    {
     "data": {
      "text/plain": [
       "array([[ 0,  1,  2,  3,  4,  5,  6,  7,  8,  9],\n",
       "       [10, 11, 12, 13, 14, 15, 16, 17, 18, 19],\n",
       "       [20, 21, 22, 23, 24, 25, 26, 27, 28, 29]])"
      ]
     },
     "execution_count": 122,
     "metadata": {},
     "output_type": "execute_result"
    }
   ],
   "source": [
    "arr3"
   ]
  },
  {
   "cell_type": "markdown",
   "id": "2ba87aed-f7da-4517-b6fd-3222040f07b1",
   "metadata": {},
   "source": [
    "# random distri bution in arrat"
   ]
  },
  {
   "cell_type": "code",
   "execution_count": 130,
   "id": "7a2ab467-dacb-47f5-a052-402d024cf0ae",
   "metadata": {},
   "outputs": [],
   "source": [
    "arr4=  np.random.rand(3,3)"
   ]
  },
  {
   "cell_type": "code",
   "execution_count": 132,
   "id": "cac776ed-d046-486c-aa29-dfc3558bca22",
   "metadata": {},
   "outputs": [
    {
     "data": {
      "text/plain": [
       "array([[0.12074986, 0.4808227 , 0.13008364],\n",
       "       [0.73353423, 0.69720608, 0.28180549],\n",
       "       [0.36814109, 0.0766783 , 0.0814452 ]])"
      ]
     },
     "execution_count": 132,
     "metadata": {},
     "output_type": "execute_result"
    }
   ],
   "source": [
    "arr4"
   ]
  },
  {
   "cell_type": "code",
   "execution_count": 134,
   "id": "1bcd03c8-2322-4e06-b38f-714a9a4e0c12",
   "metadata": {},
   "outputs": [
    {
     "data": {
      "text/plain": [
       "array([[-1.01157867, -0.19408009, -0.33215921,  0.16230493],\n",
       "       [ 0.03384471,  0.46207997,  0.34053057, -2.20475354],\n",
       "       [ 0.43710448,  0.8600603 , -0.03887923, -0.31299922],\n",
       "       [ 0.37404782, -1.3962848 , -1.38974997,  0.27625921]])"
      ]
     },
     "execution_count": 134,
     "metadata": {},
     "output_type": "execute_result"
    }
   ],
   "source": [
    "#for exponential\n",
    "\n",
    "arr_ex=np.random.randn(4,4)\n",
    "arr_ex"
   ]
  },
  {
   "cell_type": "markdown",
   "id": "7f8ca944-5b00-498d-a58b-057392622841",
   "metadata": {},
   "source": [
    "# how to concate values ?\n",
    "\"Concatenate\" means to link or combine two or more things together in a series or sequence. In computing and programming, it often refers to joining strings of text end-to-end to form a single string. For example, if you concatenate \"Hello\" and \"World,\" you get \"HelloWorld.\""
   ]
  },
  {
   "cell_type": "code",
   "execution_count": 91,
   "id": "9f32f063-3893-486a-99d9-5129c663695d",
   "metadata": {},
   "outputs": [],
   "source": [
    "a = np.array([[1, 2], [3, 4]])\n",
    "b = np.array([[5, 6]])"
   ]
  },
  {
   "cell_type": "code",
   "execution_count": 93,
   "id": "0156ad82-4b03-4e30-a1b0-c7f6437962cb",
   "metadata": {},
   "outputs": [
    {
     "data": {
      "text/plain": [
       "array([[1, 2],\n",
       "       [3, 4],\n",
       "       [5, 6]])"
      ]
     },
     "execution_count": 93,
     "metadata": {},
     "output_type": "execute_result"
    }
   ],
   "source": [
    "np.concatenate((a, b), axis=0)"
   ]
  },
  {
   "cell_type": "code",
   "execution_count": null,
   "id": "216f8c2a-32e5-449a-8099-6163fd23fbb4",
   "metadata": {},
   "outputs": [],
   "source": []
  }
 ],
 "metadata": {
  "kernelspec": {
   "display_name": "Python 3 (ipykernel)",
   "language": "python",
   "name": "python3"
  },
  "language_info": {
   "codemirror_mode": {
    "name": "ipython",
    "version": 3
   },
   "file_extension": ".py",
   "mimetype": "text/x-python",
   "name": "python",
   "nbconvert_exporter": "python",
   "pygments_lexer": "ipython3",
   "version": "3.9.12"
  }
 },
 "nbformat": 4,
 "nbformat_minor": 5
}
